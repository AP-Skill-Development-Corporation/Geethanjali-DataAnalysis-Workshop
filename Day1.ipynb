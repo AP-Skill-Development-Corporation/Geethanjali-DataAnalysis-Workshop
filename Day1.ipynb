{
 "cells": [
  {
   "cell_type": "code",
   "execution_count": null,
   "metadata": {},
   "outputs": [
    {
     "name": "stdout",
     "output_type": "stream",
     "text": [
      "\n",
      "Welcome to Python 3.8's help utility!\n",
      "\n",
      "If this is your first time using Python, you should definitely check out\n",
      "the tutorial on the Internet at https://docs.python.org/3.8/tutorial/.\n",
      "\n",
      "Enter the name of any module, keyword, or topic to get help on writing\n",
      "Python programs and using Python modules.  To quit this help utility and\n",
      "return to the interpreter, just type \"quit\".\n",
      "\n",
      "To get a list of available modules, keywords, symbols, or topics, type\n",
      "\"modules\", \"keywords\", \"symbols\", or \"topics\".  Each module also comes\n",
      "with a one-line summary of what it does; to list the modules whose name\n",
      "or summary contain a given string such as \"spam\", type \"modules spam\".\n",
      "\n",
      "help> modules\n",
      "\n",
      "Please wait a moment while I gather a list of all available modules...\n",
      "\n"
     ]
    },
    {
     "name": "stderr",
     "output_type": "stream",
     "text": [
      "C:\\Users\\user\\anaconda3\\lib\\site-packages\\IPython\\kernel\\__init__.py:12: ShimWarning: The `IPython.kernel` package has been deprecated since IPython 4.0.You should import from ipykernel or jupyter_client instead.\n",
      "  warn(\"The `IPython.kernel` package has been deprecated since IPython 4.0.\"\n",
      "C:\\Users\\user\\anaconda3\\lib\\pkgutil.py:92: MatplotlibDeprecationWarning: \n",
      "The matplotlib.compat module was deprecated in Matplotlib 3.3 and will be removed two minor releases later.\n",
      "  __import__(info.name)\n",
      "C:\\Users\\user\\anaconda3\\lib\\site-packages\\nltk\\twitter\\__init__.py:21: UserWarning: The twython library has not been installed. Some functionality from the twitter package will not be available.\n",
      "  warnings.warn(\n",
      "C:\\Users\\user\\anaconda3\\lib\\site-packages\\skimage\\viewer\\utils\\__init__.py:1: UserWarning: Recommended matplotlib backend is `Agg` for full skimage.viewer functionality.\n",
      "  from .core import *\n",
      "C:\\Users\\user\\anaconda3\\lib\\site-packages\\qtawesome\\iconic_font.py:311: UserWarning: You need to have a running QApplication to use QtAwesome!\n",
      "  warnings.warn(\"You need to have a running \"\n",
      "C:\\Users\\user\\anaconda3\\lib\\pkgutil.py:107: VisibleDeprecationWarning: zmq.eventloop.minitornado is deprecated in pyzmq 14.0 and will be removed.\n",
      "    Install tornado itself to use zmq with the tornado IOLoop.\n",
      "    \n",
      "  yield from walk_packages(path, info.name+'.', onerror)\n"
     ]
    },
    {
     "name": "stdout",
     "output_type": "stream",
     "text": [
      "Cython              brain_responses     marshal             socketserver\n",
      "IPython             brain_scipy_signal  math                socks\n",
      "OpenSSL             brain_six           matplotlib          sockshandler\n",
      "PIL                 brain_ssl           mccabe              sortedcollections\n",
      "PyQt5               brain_subprocess    menuinst            sortedcontainers\n",
      "__future__          brain_threading     mimetypes           soupsieve\n",
      "_abc                brain_typing        mistune             sphinx\n",
      "_ast                brain_uuid          mkl                 sphinxcontrib\n",
      "_asyncio            brotli              mkl_fft             spyder\n",
      "_bisect             bs4                 mkl_random          spyder_kernels\n",
      "_blake2             builtins            mmap                sqlalchemy\n",
      "_bootlocale         bz2                 mmapfile            sqlite3\n",
      "_bz2                cProfile            mmsystem            sre_compile\n",
      "_cffi_backend       calendar            mock                sre_constants\n",
      "_codecs             certifi             modulefinder        sre_parse\n",
      "_codecs_cn          cffi                more_itertools      ssl\n",
      "_codecs_hk          cgi                 mpmath              sspi\n",
      "_codecs_iso2022     cgitb               msgpack             sspicon\n",
      "_codecs_jp          chardet             msilib              stat\n",
      "_codecs_kr          chunk               msvcrt              statistics\n",
      "_codecs_tw          click               multipledispatch    statsmodels\n",
      "_collections        cloudpickle         multiprocessing     storemagic\n",
      "_collections_abc    clyent              nacl                string\n",
      "_compat_pickle      cmath               navigator_updater   stringprep\n",
      "_compression        cmd                 nbclient            struct\n",
      "_contextvars        code                nbconvert           subprocess\n",
      "_csv                codecs              nbformat            sunau\n",
      "_ctypes             codeop              nest_asyncio        symbol\n",
      "_ctypes_test        collections         netbios             sympy\n",
      "_datetime           colorama            netrc               sympyprinting\n",
      "_decimal            colorsys            networkx            symtable\n",
      "_distutils_hack     commctrl            nltk                sys\n",
      "_dummy_thread       compileall          nntplib             sysconfig\n",
      "_elementtree        comtypes            nose                tables\n",
      "_functools          concurrent          notebook            tabnanny\n",
      "_hashlib            conda               nt                  tarfile\n",
      "_heapq              conda_build         ntpath              tblib\n",
      "_imp                conda_env           ntsecuritycon       telnetlib\n",
      "_io                 conda_package_handling nturl2path          tempfile\n",
      "_json               conda_verify        numba               terminado\n",
      "_locale             configparser        numbers             test\n",
      "_lsprof             contextlib          numexpr             test_data\n",
      "_lzma               contextlib2         numpy               test_pycosat\n",
      "_markupbase         contextvars         numpydoc            testpath\n",
      "_md5                copy                odbc                tests\n",
      "_msi                copyreg             olefile             textwrap\n",
      "_multibytecodec     crypt               opcode              this\n",
      "_multiprocessing    cryptography        openpyxl            threading\n",
      "_nsis               csv                 operator            threadpoolctl\n",
      "_opcode             ctypes              optparse            tifffile\n",
      "_operator           curl                os                  time\n",
      "_osx_support        curses              packaging           timeit\n",
      "_overlapped         cwp                 pandas              timer\n",
      "_pickle             cycler              pandocfilters       tkinter\n",
      "_py_abc             cython              paramiko            tlz\n",
      "_pydecimal          cythonmagic         parser              token\n",
      "_pyio               cytoolz             parso               tokenize\n",
      "_pyrsistent_version dask                partd               toml\n",
      "_pytest             dataclasses         past                toolz\n",
      "_queue              datetime            path                tornado\n",
      "_random             dateutil            pathlib             tqdm\n",
      "_sha1               dbi                 pathlib2            trace\n",
      "_sha256             dbm                 pathtools           traceback\n",
      "_sha3               dde                 patsy               tracemalloc\n",
      "_sha512             decimal             pdb                 traitlets\n",
      "_signal             decorator           pep8                tty\n",
      "_sitebuiltins       defusedxml          perfmon             turtle\n",
      "_socket             diff_match_patch    pexpect             turtledemo\n",
      "_sqlite3            difflib             pickle              types\n",
      "_sre                dis                 pickleshare         typing\n",
      "_ssl                distributed         pickletools         typing_extensions\n",
      "_stat               distutils           pip                 ujson\n",
      "_statistics         doctest             pipes               unicodecsv\n",
      "_string             docutils            pkg_resources       unicodedata\n",
      "_strptime           dummy_threading     pkginfo             unittest\n",
      "_struct             easy_install        pkgutil             urllib\n",
      "_symtable           email               platform            urllib3\n",
      "_system_path        encodings           plistlib            uu\n",
      "_testbuffer         ensurepip           pluggy              uuid\n",
      "_testcapi           entrypoints         ply                 venv\n",
      "_testconsole        enum                poplib              warnings\n",
      "_testimportmultiple errno               posixpath           watchdog\n",
      "_testinternalcapi   et_xmlfile          pprint              wave\n",
      "_testmultiphase     fastcache           profile             wcwidth\n",
      "_thread             faulthandler        prometheus_client   weakref\n",
      "_threading_local    filecmp             prompt_toolkit      webbrowser\n",
      "_tkinter            fileinput           pstats              webencodings\n",
      "_tracemalloc        filelock            psutil              werkzeug\n",
      "_warnings           flake8              pty                 wheel\n",
      "_weakref            flask               pvectorc            widgetsnbextension\n",
      "_weakrefset         fnmatch             py                  win2kras\n",
      "_win32sysloader     formatter           py_compile          win32api\n",
      "_winapi             fractions           pyclbr              win32clipboard\n",
      "_winxptheme         fsspec              pycodestyle         win32com\n",
      "_xxsubinterpreters  ftplib              pycosat             win32con\n",
      "_yaml               functools           pycparser           win32console\n",
      "abc                 future              pycurl              win32cred\n",
      "adodbapi            gc                  pydoc               win32crypt\n",
      "afxres              genericpath         pydoc_data          win32cryptcon\n",
      "aifc                getopt              pydocstyle          win32ctypes\n",
      "alabaster           getpass             pyexpat             win32event\n",
      "anaconda_navigator  gettext             pyflakes            win32evtlog\n",
      "anaconda_project    gevent              pygments            win32evtlogutil\n",
      "antigravity         glob                pylab               win32file\n",
      "argh                glob2               pylint              win32gui\n",
      "argon2              greenlet            pyls                win32gui_struct\n",
      "argparse            gzip                pyls_jsonrpc        win32help\n",
      "array               h5py                pyodbc              win32inet\n",
      "asn1crypto          hashlib             pyparsing           win32inetcon\n",
      "ast                 heapdict            pyreadline          win32job\n",
      "astroid             heapq               pyrsistent          win32lz\n",
      "astropy             hmac                pytest              win32net\n",
      "async_generator     html                pythoncom           win32netcon\n",
      "asynchat            html5lib            pytz                win32pdh\n",
      "asyncio             http                pywin               win32pdhquery\n",
      "asyncore            idlelib             pywin32_bootstrap   win32pdhutil\n",
      "atexit              idna                pywin32_testutil    win32pipe\n",
      "atomicwrites        imageio             pywintypes          win32print\n"
     ]
    },
    {
     "name": "stdout",
     "output_type": "stream",
     "text": [
      "attr                imagesize           pywt                win32process\n",
      "audioop             imaplib             pyximport           win32profile\n",
      "autopep8            imghdr              qdarkstyle          win32ras\n",
      "autoreload          imp                 qtawesome           win32rcparser\n",
      "babel               importlib           qtconsole           win32security\n",
      "backcall            importlib_metadata  qtpy                win32service\n",
      "backports           iniconfig           queue               win32serviceutil\n",
      "base64              inspect             quopri              win32timezone\n",
      "bcrypt              intervaltree        random              win32trace\n",
      "bdb                 io                  rasutil             win32traceutil\n",
      "binascii            ipaddress           re                  win32transaction\n",
      "binhex              ipykernel           readline            win32ts\n",
      "binstar_client      ipykernel_launcher  regcheck            win32ui\n",
      "bisect              ipython_genutils    regex               win32uiole\n",
      "bitarray            ipywidgets          regutil             win32verstamp\n",
      "bkcharts            isapi               reprlib             win32wnet\n",
      "bleach              isort               requests            win_inet_pton\n",
      "bokeh               isympy              rlcompleter         win_unicode_console\n",
      "boto                itertools           rmagic              wincertstore\n",
      "bottleneck          itsdangerous        rope                winerror\n",
      "brain_argparse      jdcal               rtree               winioctlcon\n",
      "brain_attrs         jedi                ruamel_yaml         winnt\n",
      "brain_boto3         jinja2              run                 winperf\n",
      "brain_builtin_inference joblib              runpy               winpty\n",
      "brain_collections   json                sched               winreg\n",
      "brain_crypt         json5               scipy               winsound\n",
      "brain_curses        jsonschema          scripts             winxpgui\n",
      "brain_dataclasses   jupyter             seaborn             winxptheme\n",
      "brain_dateutil      jupyter_client      secrets             wrapt\n",
      "brain_fstrings      jupyter_console     select              wsgiref\n",
      "brain_functools     jupyter_core        selectors           xdrlib\n",
      "brain_gi            jupyterlab          send2trash          xlrd\n",
      "brain_hashlib       jupyterlab_pygments servicemanager      xlsxwriter\n",
      "brain_http          jupyterlab_server   setuptools          xlwings\n",
      "brain_io            keyring             shelve              xlwt\n",
      "brain_mechanize     keyword             shlex               xml\n",
      "brain_multiprocessing kiwisolver          shutil              xmlrpc\n",
      "brain_namedtuple_enum lazy_object_proxy   signal              xmltodict\n",
      "brain_nose          lib2to3             simplegeneric       xxsubtype\n",
      "brain_numpy_core_fromnumeric libarchive          singledispatch      yaml\n",
      "brain_numpy_core_function_base libfuturize         singledispatch_helpers yapf\n",
      "brain_numpy_core_multiarray libpasteurize       sip                 yapftests\n",
      "brain_numpy_core_numeric lief                sipconfig           zict\n",
      "brain_numpy_core_numerictypes linecache           sipdistutils        zipapp\n",
      "brain_numpy_core_umath llvmlite            site                zipfile\n",
      "brain_numpy_ndarray locale              six                 zipimport\n",
      "brain_numpy_random_mtrand locket              skimage             zipp\n",
      "brain_numpy_utils   logging             sklearn             zlib\n",
      "brain_pkg_resources lxml                smtpd               zmq\n",
      "brain_pytest        lzma                smtplib             zope\n",
      "brain_qt            mailbox             sndhdr              \n",
      "brain_random        mailcap             snowballstemmer     \n",
      "brain_re            markupsafe          socket              \n",
      "\n",
      "Enter any module name to get more help.  Or, type \"modules spam\" to search\n",
      "for modules whose name or summary contain the string \"spam\".\n",
      "\n"
     ]
    }
   ],
   "source": [
    "help()"
   ]
  },
  {
   "cell_type": "code",
   "execution_count": 1,
   "metadata": {},
   "outputs": [],
   "source": [
    "import webbrowser"
   ]
  },
  {
   "cell_type": "code",
   "execution_count": 3,
   "metadata": {},
   "outputs": [
    {
     "data": {
      "text/plain": [
       "True"
      ]
     },
     "execution_count": 3,
     "metadata": {},
     "output_type": "execute_result"
    }
   ],
   "source": [
    "webbrowser.open('gist.edu.in')"
   ]
  },
  {
   "cell_type": "code",
   "execution_count": 4,
   "metadata": {},
   "outputs": [],
   "source": [
    "import time"
   ]
  },
  {
   "cell_type": "code",
   "execution_count": 5,
   "metadata": {},
   "outputs": [
    {
     "data": {
      "text/plain": [
       "'Mon Mar 22 15:27:03 2021'"
      ]
     },
     "execution_count": 5,
     "metadata": {},
     "output_type": "execute_result"
    }
   ],
   "source": [
    "time.ctime()"
   ]
  },
  {
   "cell_type": "code",
   "execution_count": 6,
   "metadata": {},
   "outputs": [
    {
     "data": {
      "text/plain": [
       "['_STRUCT_TM_ITEMS',\n",
       " '__doc__',\n",
       " '__loader__',\n",
       " '__name__',\n",
       " '__package__',\n",
       " '__spec__',\n",
       " 'altzone',\n",
       " 'asctime',\n",
       " 'ctime',\n",
       " 'daylight',\n",
       " 'get_clock_info',\n",
       " 'gmtime',\n",
       " 'localtime',\n",
       " 'mktime',\n",
       " 'monotonic',\n",
       " 'monotonic_ns',\n",
       " 'perf_counter',\n",
       " 'perf_counter_ns',\n",
       " 'process_time',\n",
       " 'process_time_ns',\n",
       " 'sleep',\n",
       " 'strftime',\n",
       " 'strptime',\n",
       " 'struct_time',\n",
       " 'thread_time',\n",
       " 'thread_time_ns',\n",
       " 'time',\n",
       " 'time_ns',\n",
       " 'timezone',\n",
       " 'tzname']"
      ]
     },
     "execution_count": 6,
     "metadata": {},
     "output_type": "execute_result"
    }
   ],
   "source": [
    "dir(time)"
   ]
  },
  {
   "cell_type": "code",
   "execution_count": 11,
   "metadata": {},
   "outputs": [
    {
     "name": "stdout",
     "output_type": "stream",
     "text": [
      "Mon Mar 22 15:35:20 2021 0\n",
      "Mon Mar 22 15:35:30 2021 1\n",
      "Mon Mar 22 15:35:40 2021 2\n",
      "Mon Mar 22 15:35:50 2021 3\n",
      "Mon Mar 22 15:36:00 2021 4\n",
      "Mon Mar 22 15:36:10 2021 5\n",
      "Mon Mar 22 15:36:20 2021 6\n",
      "Mon Mar 22 15:36:30 2021 7\n",
      "Mon Mar 22 15:36:40 2021 8\n",
      "Mon Mar 22 15:36:50 2021 9\n",
      "Mon Mar 22 15:37:00 2021 10\n"
     ]
    }
   ],
   "source": [
    "for i in range(11):\n",
    "    time.sleep(10)\n",
    "    print(time.ctime(),i)"
   ]
  },
  {
   "cell_type": "code",
   "execution_count": 14,
   "metadata": {},
   "outputs": [],
   "source": [
    "import time,webbrowser\n",
    "count=0\n",
    "totalbrowsers = 4\n",
    "while count<=totalbrowsers:\n",
    "    time.sleep(5)\n",
    "    if count==1:\n",
    "        webbrowser.open('http://gist.edu.in')\n",
    "    elif count==2:\n",
    "        webbrowser.open('apssdc.in/home')\n",
    "    elif count==3:\n",
    "        webbrowser.open('engineering.apssdc.in')\n",
    "    elif count==4:\n",
    "        webbrowser.open('youtube.com')\n",
    "    count+=1"
   ]
  },
  {
   "cell_type": "code",
   "execution_count": null,
   "metadata": {},
   "outputs": [],
   "source": []
  }
 ],
 "metadata": {
  "kernelspec": {
   "display_name": "Python 3",
   "language": "python",
   "name": "python3"
  },
  "language_info": {
   "codemirror_mode": {
    "name": "ipython",
    "version": 3
   },
   "file_extension": ".py",
   "mimetype": "text/x-python",
   "name": "python",
   "nbconvert_exporter": "python",
   "pygments_lexer": "ipython3",
   "version": "3.8.5"
  }
 },
 "nbformat": 4,
 "nbformat_minor": 4
}
